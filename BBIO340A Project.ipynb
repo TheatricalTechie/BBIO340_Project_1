{
 "cells": [
  {
   "cell_type": "code",
   "execution_count": 54,
   "id": "c04a492d",
   "metadata": {},
   "outputs": [],
   "source": [
    "#Importation of all API's that will be used (will expand as use cases crop up that need solving)\n",
    "\n",
    "import pandas as pd\n",
    "import numpy as np\n",
    "import matplotlib\n",
    "from matplotlib import pyplot as plt\n",
    "from scipy.stats import ttest_ind\n"
   ]
  },
  {
   "cell_type": "code",
   "execution_count": 107,
   "id": "84b4f955",
   "metadata": {},
   "outputs": [],
   "source": [
    "# Import Source document with only the columns that are needed for intended analysis\n",
    "\n",
    "rawdata_MycoDB = pd.read_csv(\"MycoDB_version1.csv\", usecols = [\"PlantFamily\", \"PlantSpecies\", \"FungalGenus\", \"PLANTLIFEHISTORY\", \"FUNGROUP\"])\n",
    "rawdata_BFIBundle = pd.read_csv(\"bfi-source.csv\", usecols = [\"Fungal_host_taxa\", \"Bacterial_associate_taxa\"])"
   ]
  },
  {
   "cell_type": "code",
   "execution_count": 3,
   "id": "31c6a922",
   "metadata": {
    "scrolled": true
   },
   "outputs": [
    {
     "name": "stdout",
     "output_type": "stream",
     "text": [
      "     PlantFamily       PlantSpecies      FungalGenus PLANTLIFEHISTORY  \\\n",
      "0       fabaceae  vigna_unguiculata              NaN  annual_biennial   \n",
      "1       fabaceae  vigna_unguiculata  claroideoglomus  annual_biennial   \n",
      "2       fabaceae      cajanus_cajan  claroideoglomus        perennial   \n",
      "3       fabaceae   arachis_hypogaea              NaN  annual_biennial   \n",
      "4       fabaceae   arachis_hypogaea  claroideoglomus  annual_biennial   \n",
      "...          ...                ...              ...              ...   \n",
      "4005  betulaceae   alnus_tenuifolia           alpova        perennial   \n",
      "4006  betulaceae   alnus_tenuifolia           alpova        perennial   \n",
      "4007  betulaceae   alnus_tenuifolia           alpova        perennial   \n",
      "4008  betulaceae   alnus_tenuifolia           alpova        perennial   \n",
      "4009  betulaceae   alnus_tenuifolia           alpova        perennial   \n",
      "\n",
      "      FUNGROUP  \n",
      "0     Nfixforb  \n",
      "1     Nfixforb  \n",
      "2     Nfixforb  \n",
      "3     Nfixforb  \n",
      "4     Nfixforb  \n",
      "...        ...  \n",
      "4005  Nfixwood  \n",
      "4006  Nfixwood  \n",
      "4007  Nfixwood  \n",
      "4008  Nfixwood  \n",
      "4009  Nfixwood  \n",
      "\n",
      "[4010 rows x 5 columns]\n",
      "     Bacterial_associate_taxa    Fungal_host_taxa\n",
      "0               Achromobacter         Trichoderma\n",
      "1               Acinetobacter            Fusarium\n",
      "2                  Agrococcus            Fusarium\n",
      "3                Azospirillum            Fusarium\n",
      "4                    Bacillus            Fusarium\n",
      "...                       ...                 ...\n",
      "6044         Mycoplasma [MRE]      Lobosporangium\n",
      "6045         Mycoplasma [MRE]   Actinomortierella\n",
      "6046         Mycoplasma [MRE]  Lunasporangiospora\n",
      "6047         Mycoplasma [MRE]         Mortierella\n",
      "6048         Mycoplasma [MRE]              Podila\n",
      "\n",
      "[6049 rows x 2 columns]\n"
     ]
    }
   ],
   "source": [
    "#Test to see if imported correctly\n",
    "\n",
    "print (rawdata_MycoDB)\n",
    "print (rawdata_BFIBundle)"
   ]
  },
  {
   "cell_type": "code",
   "execution_count": 4,
   "id": "6818a8bf",
   "metadata": {},
   "outputs": [],
   "source": [
    "#Removing columns that lack full data so that it cannot mess with future testing (primarly only fungal genus infomation missing in source data)\n",
    "\n",
    "rawdata_MycoDB_na = rawdata_MycoDB.dropna()\n",
    "rawdata_BFIBundle_na = rawdata_BFIBundle.dropna()"
   ]
  },
  {
   "cell_type": "code",
   "execution_count": 5,
   "id": "8df59255",
   "metadata": {
    "scrolled": true
   },
   "outputs": [
    {
     "name": "stdout",
     "output_type": "stream",
     "text": [
      "     PlantFamily       PlantSpecies      FungalGenus PLANTLIFEHISTORY  \\\n",
      "1       fabaceae  vigna_unguiculata  claroideoglomus  annual_biennial   \n",
      "2       fabaceae      cajanus_cajan  claroideoglomus        perennial   \n",
      "4       fabaceae   arachis_hypogaea  claroideoglomus  annual_biennial   \n",
      "5       fabaceae  vigna_unguiculata        gigaspora  annual_biennial   \n",
      "7       fabaceae  vigna_unguiculata        gigaspora  annual_biennial   \n",
      "...          ...                ...              ...              ...   \n",
      "4005  betulaceae   alnus_tenuifolia           alpova        perennial   \n",
      "4006  betulaceae   alnus_tenuifolia           alpova        perennial   \n",
      "4007  betulaceae   alnus_tenuifolia           alpova        perennial   \n",
      "4008  betulaceae   alnus_tenuifolia           alpova        perennial   \n",
      "4009  betulaceae   alnus_tenuifolia           alpova        perennial   \n",
      "\n",
      "      FUNGROUP  \n",
      "1     Nfixforb  \n",
      "2     Nfixforb  \n",
      "4     Nfixforb  \n",
      "5     Nfixforb  \n",
      "7     Nfixforb  \n",
      "...        ...  \n",
      "4005  Nfixwood  \n",
      "4006  Nfixwood  \n",
      "4007  Nfixwood  \n",
      "4008  Nfixwood  \n",
      "4009  Nfixwood  \n",
      "\n",
      "[3401 rows x 5 columns]\n",
      "     Bacterial_associate_taxa    Fungal_host_taxa\n",
      "0               Achromobacter         Trichoderma\n",
      "1               Acinetobacter            Fusarium\n",
      "2                  Agrococcus            Fusarium\n",
      "3                Azospirillum            Fusarium\n",
      "4                    Bacillus            Fusarium\n",
      "...                       ...                 ...\n",
      "6044         Mycoplasma [MRE]      Lobosporangium\n",
      "6045         Mycoplasma [MRE]   Actinomortierella\n",
      "6046         Mycoplasma [MRE]  Lunasporangiospora\n",
      "6047         Mycoplasma [MRE]         Mortierella\n",
      "6048         Mycoplasma [MRE]              Podila\n",
      "\n",
      "[6049 rows x 2 columns]\n"
     ]
    }
   ],
   "source": [
    "#Test to see if removal of NaN data worked as intended\n",
    "\n",
    "print (rawdata_MycoDB_na)\n",
    "print (rawdata_BFIBundle_na)"
   ]
  },
  {
   "cell_type": "code",
   "execution_count": 6,
   "id": "8b6d06f1",
   "metadata": {},
   "outputs": [],
   "source": [
    "# Seperated MycoDB data by life histories so testing between them can occur and grpah creation simplified\n",
    "\n",
    "filtered_rawdata_MycoDB_na_ab = rawdata_MycoDB_na[rawdata_MycoDB_na[\"PLANTLIFEHISTORY\"].str.contains(\"annual_biennial\")]\n",
    "filtered_rawdata_MycoDB_na_p = rawdata_MycoDB_na[rawdata_MycoDB_na[\"PLANTLIFEHISTORY\"].str.contains(\"perennial\")]"
   ]
  },
  {
   "cell_type": "code",
   "execution_count": 7,
   "id": "d5b07301",
   "metadata": {},
   "outputs": [
    {
     "name": "stdout",
     "output_type": "stream",
     "text": [
      "     PlantFamily       PlantSpecies      FungalGenus PLANTLIFEHISTORY  \\\n",
      "1       fabaceae  vigna_unguiculata  claroideoglomus  annual_biennial   \n",
      "4       fabaceae   arachis_hypogaea  claroideoglomus  annual_biennial   \n",
      "5       fabaceae  vigna_unguiculata        gigaspora  annual_biennial   \n",
      "7       fabaceae  vigna_unguiculata        gigaspora  annual_biennial   \n",
      "13      fabaceae   arachis_hypogaea        gigaspora  annual_biennial   \n",
      "...          ...                ...              ...              ...   \n",
      "3678    pinaceae      pinus_radiata       rhizopogon  annual_biennial   \n",
      "3679    pinaceae      pinus_radiata       rhizopogon  annual_biennial   \n",
      "3680    pinaceae      pinus_radiata       rhizopogon  annual_biennial   \n",
      "3681    pinaceae      pinus_radiata       rhizopogon  annual_biennial   \n",
      "3682    pinaceae      pinus_radiata       rhizopogon  annual_biennial   \n",
      "\n",
      "      FUNGROUP  \n",
      "1     Nfixforb  \n",
      "4     Nfixforb  \n",
      "5     Nfixforb  \n",
      "7     Nfixforb  \n",
      "13    Nfixforb  \n",
      "...        ...  \n",
      "3678  nonNwood  \n",
      "3679  nonNwood  \n",
      "3680  nonNwood  \n",
      "3681  nonNwood  \n",
      "3682  nonNwood  \n",
      "\n",
      "[1153 rows x 5 columns]\n",
      "     PlantFamily      PlantSpecies      FungalGenus PLANTLIFEHISTORY  FUNGROUP\n",
      "2       fabaceae     cajanus_cajan  claroideoglomus        perennial  Nfixforb\n",
      "9       fabaceae     cajanus_cajan        gigaspora        perennial  Nfixforb\n",
      "11      fabaceae     cajanus_cajan        gigaspora        perennial  Nfixforb\n",
      "18      oleaceae     olea_europaea  claroideoglomus        perennial  Nfixwood\n",
      "20      oleaceae     olea_europaea  claroideoglomus        perennial  Nfixwood\n",
      "...          ...               ...              ...              ...       ...\n",
      "4005  betulaceae  alnus_tenuifolia           alpova        perennial  Nfixwood\n",
      "4006  betulaceae  alnus_tenuifolia           alpova        perennial  Nfixwood\n",
      "4007  betulaceae  alnus_tenuifolia           alpova        perennial  Nfixwood\n",
      "4008  betulaceae  alnus_tenuifolia           alpova        perennial  Nfixwood\n",
      "4009  betulaceae  alnus_tenuifolia           alpova        perennial  Nfixwood\n",
      "\n",
      "[2218 rows x 5 columns]\n"
     ]
    }
   ],
   "source": [
    "# Test to see if seperation of data worked as intended\n",
    "\n",
    "print (filtered_rawdata_MycoDB_na_ab)\n",
    "print (filtered_rawdata_MycoDB_na_p)"
   ]
  },
  {
   "cell_type": "code",
   "execution_count": 8,
   "id": "0c35e6fd",
   "metadata": {},
   "outputs": [
    {
     "name": "stdout",
     "output_type": "stream",
     "text": [
      "{'vigna_unguiculata': {'claroideoglomus': 4, 'gigaspora': 5, 'acaulospora': 11, 'rhizoglomus': 3, 'funneliformis': 2, 'sclerocystis': 10, 'total': 35}, 'arachis_hypogaea': {'claroideoglomus': 1, 'gigaspora': 2, 'funneliformis': 3, 'total': 6}, 'lactuca_sativa': {'rhizoglomus': 30, 'funneliformis': 30, 'glomus': 12, 'total': 72}, 'zea_mays': {'rhizoglomus': 86, 'claroideoglomus': 27, 'funneliformis': 60, 'acaulospora': 11, 'septoglomus': 10, 'gigaspora': 4, 'total': 198}, 'trifolium_subterraneum': {'rhizoglomus': 15, 'scutellospora': 8, 'glomus': 10, 'acaulospora': 2, 'gigaspora': 6, 'claroideoglomus': 8, 'total': 49}, 'glycine_max': {'claroideoglomus': 3, 'gigaspora': 12, 'funneliformis': 25, 'rhizoglomus': 10, 'glomus': 10, 'total': 60}, 'astragalus_sinicus': {'rhizoglomus': 5, 'gigaspora': 5, 'acaulospora': 5, 'total': 15}, 'pisum_sativum': {'rhizoglomus': 27, 'funneliformis': 20, 'total': 47}, 'kummerowia_striata': {'gigaspora': 1, 'total': 1}, 'cucumis_sativus': {'claroideoglomus': 2, 'gigaspora': 3, 'funneliformis': 3, 'glomus': 3, 'scutellospora': 1, 'rhizoglomus': 8, 'total': 20}, 'hordeum_vulgare': {'funneliformis': 16, 'claroideoglomus': 30, 'rhizoglomus': 10, 'glomus': 8, 'total': 64}, 'nicotiana_tabacum': {'rhizoglomus': 23, 'funneliformis': 101, 'claroideoglomus': 3, 'total': 127}, 'salsola_kali': {'claroideoglomus': 7, 'total': 7}, 'eragrostis_tef': {'funneliformis': 3, 'glomus': 3, 'total': 6}, 'triticum_aestivum': {'rhizoglomus': 21, 'funneliformis': 16, 'claroideoglomus': 2, 'gigaspora': 8, 'glomus': 1, 'scutellospora': 2, 'total': 50}, 'callistephus_chinensis': {'acaulospora': 4, 'gigaspora': 4, 'sclerocystis': 4, 'rhizoglomus': 1, 'total': 13}, 'conyza_bilbaoana': {'rhizoglomus': 4, 'funneliformis': 4, 'total': 8}, 'phaseolus_vulgaris': {'claroideoglomus': 2, 'funneliformis': 4, 'total': 6}, 'solanum_lycopersicum': {'rhizoglomus': 11, 'gigaspora': 2, 'funneliformis': 23, 'glomus': 1, 'sclerocystis': 1, 'claroideoglomus': 12, 'total': 50}, 'rhinanthus_minor': {'gigaspora': 1, 'rhizoglomus': 1, 'total': 2}, 'lens_esculenta': {'diversispora': 1, 'rhizoglomus': 1, 'funneliformis': 1, 'total': 3}, 'elsholtzia_splendens': {'funneliformis': 2, 'total': 2}, 'triticum_turgidum': {'funneliformis': 36, 'total': 36}, 'sorghum_bicolor': {'rhizoglomus': 4, 'glomus': 1, 'funneliformis': 2, 'total': 7}, 'lens_culinaris': {'funneliformis': 25, 'total': 25}, 'triticum_durum': {'glomus': 6, 'funneliformis': 6, 'total': 12}, 'cicer_arietinum': {'rhizoglomus': 6, 'total': 6}, 'eleusine_coracana': {'rhizoglomus': 1, 'total': 1}, 'sesamum_indicum': {'rhizoglomus': 3, 'funneliformis': 4, 'glomus': 2, 'total': 9}, 'medicago_truncatula': {'rhizoglomus': 7, 'funneliformis': 2, 'racocetra': 1, 'scutellospora': 1, 'total': 11}, 'rhynchelytrum_repens': {'funneliformis': 2, 'rhizoglomus': 1, 'total': 3}, 'capsicum_annuum': {'rhizoglomus': 28, 'gigaspora': 12, 'claroideoglomus': 2, 'funneliformis': 2, 'glomus': 7, 'total': 51}, 'helianthus_annuus': {'rhizoglomus': 8, 'funneliformis': 1, 'total': 9}, 'lolium_rigidum': {'scutellospora': 7, 'total': 7}, 'petunia_hybrida': {'rhizoglomus': 1, 'total': 1}, 'papaver_rhoeas': {'rhizoglomus': 1, 'total': 1}, 'tagetes_erecta': {'rhizoglomus': 11, 'funneliformis': 10, 'glomus': 10, 'gigaspora': 10, 'total': 41}, 'oryza_sativa': {'rhizoglomus': 20, 'total': 20}, 'lactuca_serriola': {'rhizoglomus': 4, 'total': 4}, 'anethum_graveolens': {'rhizoglomus': 1, 'glomus': 1, 'total': 2}, 'trachyspermum_ammi': {'rhizoglomus': 1, 'glomus': 1, 'total': 2}, 'zinnia_elegans': {'gigaspora': 8, 'total': 8}, 'sorghum_sudanese': {'gigaspora': 1, 'glomus': 1, 'funneliformis': 1, 'total': 3}, 'cyamopsis_tetragonoloba': {'funneliformis': 3, 'sclerocystis': 3, 'dentiscutata': 3, 'rhizoglomus': 5, 'total': 14}, 'trifolium_alexandrium': {'rhizoglomus': 2, 'total': 2}, 'linum_usitatissimum': {'funneliformis': 1, 'glomus': 1, 'total': 2}, 'guizotia_abyssinica': {'glomus': 1, 'funneliformis': 2, 'total': 3}, 'vigna_radiata': {'scutellospora': 1, 'gigaspora': 1, 'cetraspora': 1, 'glomus': 1, 'diversispora': 1, 'rhizoglomus': 1, 'funneliformis': 1, 'total': 7}, 'gossypium_hirsutum': {'funneliformis': 5, 'total': 5}, 'panicum_miliaceum': {'rhizoglomus': 1, 'claroideoglomus': 1, 'acaulospora': 1, 'total': 3}, 'pinus_sylvestris': {'laccaria': 12, 'total': 12}, 'pinus_radiata': {'rhizopogon': 5, 'total': 5}}\n",
      "{'claroideoglomus': 104, 'gigaspora': 85, 'acaulospora': 34, 'rhizoglomus': 362, 'funneliformis': 416, 'sclerocystis': 18, 'total': 1153, 'glomus': 80, 'septoglomus': 10, 'scutellospora': 20, 'diversispora': 2, 'racocetra': 1, 'dentiscutata': 3, 'cetraspora': 1, 'laccaria': 12, 'rhizopogon': 5}\n"
     ]
    }
   ],
   "source": [
    "#for all (Unique) plant speices in PlantSpecies, give amount of each (unique) Fungal genus in FungalGenus\n",
    "\n",
    "counts = {}\n",
    "for index, row in filtered_rawdata_MycoDB_na_ab.iterrows():\n",
    "    plant = row[\"PlantSpecies\"]\n",
    "    fungus = row[\"FungalGenus\"]\n",
    "    if plant not in counts:\n",
    "        counts[plant] = {}\n",
    "    if fungus not in counts[plant]:\n",
    "        counts[plant][fungus] = 0\n",
    "    counts[plant][fungus] += 1\n",
    "      \n",
    "for plant in counts.keys():\n",
    "    counts[plant][\"total\"] = sum(counts[plant].values())\n",
    "\n",
    "print (counts)\n",
    "\n",
    "fungal_counts = {}\n",
    "for plant in counts:\n",
    "    for fungus in counts[plant]:\n",
    "        if fungus not in fungal_counts:\n",
    "            fungal_counts[fungus] = 0\n",
    "        fungal_counts[fungus] += counts[plant][fungus]\n",
    "#del fungal_counts[\"total\"]\n",
    "print(fungal_counts)\n",
    "fungal_count_ab = fungal_counts"
   ]
  },
  {
   "cell_type": "code",
   "execution_count": 9,
   "id": "4de3ab87",
   "metadata": {
    "scrolled": true
   },
   "outputs": [
    {
     "name": "stdout",
     "output_type": "stream",
     "text": [
      "{'cajanus_cajan': {'claroideoglomus': 1, 'gigaspora': 18, 'rhizoglomus': 8, 'funneliformis': 4, 'glomus': 4, 'total': 35}, 'olea_europaea': {'claroideoglomus': 3, 'rhizoglomus': 15, 'funneliformis': 13, 'septoglomus': 6, 'total': 37}, 'retama_sphaerocarpa': {'funneliformis': 6, 'rhizoglomus': 8, 'glomus': 6, 'claroideoglomus': 1, 'total': 21}, 'rhamnus_lycioides': {'claroideoglomus': 1, 'rhizoglomus': 2, 'total': 3}, 'otholobium_hirtum': {'acaulospora': 4, 'total': 4}, 'aspalathus_linearis': {'acaulospora': 4, 'total': 4}, 'panicum_amarum': {'claroideoglomus': 4, 'total': 4}, 'uniola_paniculata': {'claroideoglomus': 2, 'total': 2}, 'faidherbia_albida': {'rhizoglomus': 8, 'glomus': 5, 'total': 13}, 'ziziphus_mauritiana': {'glomus': 2, 'rhizoglomus': 3, 'funneliformis': 1, 'acaulospora': 1, 'total': 7}, 'tamarindus_indica': {'glomus': 2, 'rhizoglomus': 3, 'funneliformis': 1, 'acaulospora': 1, 'total': 7}, 'dialium_guineensis': {'glomus': 1, 'rhizoglomus': 1, 'total': 2}, 'parkia_biglobosa': {'glomus': 2, 'rhizoglomus': 3, 'acaulospora': 1, 'funneliformis': 1, 'total': 7}, 'cordyla_pinnata': {'glomus': 1, 'rhizoglomus': 1, 'total': 2}, 'anacardium_occidentale': {'glomus': 1, 'rhizoglomus': 1, 'total': 2}, 'aphania_senegalensis': {'glomus': 1, 'rhizoglomus': 1, 'total': 2}, 'sclerocarya_birrea': {'rhizoglomus': 1, 'glomus': 1, 'total': 2}, 'landolphia_heudelottii': {'glomus': 1, 'rhizoglomus': 1, 'total': 2}, 'adansonia_digitata': {'glomus': 1, 'rhizoglomus': 1, 'total': 2}, 'saba_senegalensis': {'glomus': 1, 'rhizoglomus': 1, 'total': 2}, 'balanites_aegyptiaca': {'rhizoglomus': 1, 'glomus': 1, 'total': 2}, 'afzelia_africana': {'rhizoglomus': 1, 'glomus': 1, 'pisolithus': 1, 'thelephora': 1, 'scleroderma': 2, 'total': 6}, 'chloris_gayana': {'funneliformis': 1, 'total': 1}, 'medicago_sativa': {'rhizoglomus': 12, 'glomus': 3, 'funneliformis': 3, 'total': 18}, 'citrus_reshni': {'rhizoglomus': 5, 'total': 5}, 'dorycnium_pentaphyllum': {'funneliformis': 4, 'glomus': 4, 'rhizoglomus': 4, 'total': 12}, 'trifolium_repens': {'claroideoglomus': 10, 'funneliformis': 34, 'rhizoglomus': 6, 'gigaspora': 2, 'total': 52}, 'ocimum_basilicum': {'funneliformis': 1, 'gigaspora': 2, 'total': 3}, 'musa_acuminata': {'diversispora': 3, 'rhizoglomus': 6, 'total': 9}, 'lygeum_spartum': {'rhizoglomus': 8, 'total': 8}, 'anthyllis_cytisoides': {'rhizoglomus': 11, 'funneliformis': 2, 'total': 13}, 'allium_porrum': {'scutellospora': 8, 'rhizoglomus': 1, 'total': 9}, 'leucaena_leucocephala': {'rhizoglomus': 8, 'claroideoglomus': 6, 'glomus': 12, 'boletus': 2, 'total': 28}, 'prosopis_juliflora': {'rhizoglomus': 12, 'glomus': 4, 'funneliformis': 4, 'total': 20}, 'manihot_esculenta': {'rhizoglomus': 2, 'total': 2}, 'acacia_holosericea': {'glomus': 1, 'scleroderma': 10, 'pisolithus': 31, 'rhizoglomus': 7, 'total': 49}, 'colubrina_oppositifolia': {'glomus': 2, 'total': 2}, 'bidens_sandvicensis': {'glomus': 3, 'total': 3}, 'bidens_asymmetrica': {'glomus': 2, 'total': 2}, 'acacia_nilotica': {'rhizoglomus': 9, 'total': 9}, 'leymus_arenarius': {'rhizoglomus': 1, 'total': 1}, 'vigna_luteola': {'funneliformis': 1, 'racocetra': 1, 'total': 2}, 'phleum_pratense': {'claroideoglomus': 2, 'total': 2}, 'panicum_virgatum': {'claroideoglomus': 9, 'rhizoglomus': 6, 'gigaspora': 6, 'acaulospora': 2, 'total': 23}, 'apium_graveolens': {'glomus': 5, 'rhizoglomus': 6, 'total': 11}, 'saccharum_officinarum': {'rhizoglomus': 6, 'total': 6}, 'sibbaldia_procumbens': {'glomus': 9, 'claroideoglomus': 9, 'total': 18}, 'vitis_berlandieri': {'rhizoglomus': 5, 'glomus': 1, 'total': 6}, 'vitis_riparia': {'rhizoglomus': 2, 'total': 2}, 'vitis_vinifera': {'rhizoglomus': 8, 'funneliformis': 5, 'acaulospora': 3, 'gigaspora': 1, 'dentiscutata': 1, 'total': 18}, 'calamagrostis_epigejos': {'claroideoglomus': 5, 'funneliformis': 1, 'total': 6}, 'myrtus_communis': {'rhizoglomus': 1, 'total': 1}, 'acacia_sieberiana': {'funneliformis': 4, 'total': 4}, 'dalbergia_sissoo': {'rhizoglomus': 14, 'total': 14}, 'citrus_aurantium': {'funneliformis': 6, 'rhizoglomus': 11, 'claroideoglomus': 2, 'total': 19}, 'pistacia_lentiscus': {'rhizoglomus': 2, 'total': 2}, 'atriplex_nummularia': {'rhizoglomus': 1, 'total': 1}, 'acacia_ampliceps': {'funneliformis': 1, 'total': 1}, 'acacia_eriopoda': {'funneliformis': 1, 'total': 1}, 'albizia_lebbeck': {'funneliformis': 1, 'boletus': 2, 'total': 3}, 'azadirachta_indica': {'funneliformis': 1, 'total': 1}, 'colophospermum_mopane': {'funneliformis': 1, 'total': 1}, 'cymbopogon_martinii': {'glomus': 2, 'total': 2}, 'bromus_inermis': {'claroideoglomus': 1, 'acaulospora': 2, 'gigaspora': 1, 'dentiscutata': 1, 'total': 5}, 'alnus_acuminata': {'rhizoglomus': 3, 'total': 3}, 'agrostis_capillaris': {'rhizoglomus': 13, 'total': 13}, 'plectranthus_barbatus': {'rhizoglomus': 2, 'glomus': 3, 'scutellospora': 1, 'ambispora': 1, 'funneliformis': 1, 'claroideoglomus': 1, 'total': 9}, 'desmanthus_illinoensis': {'claroideoglomus': 1, 'rhizoglomus': 1, 'total': 2}, 'desmodium_paniculatum': {'claroideoglomus': 1, 'rhizoglomus': 1, 'total': 2}, 'platyciamus_regenellii': {'claroideoglomus': 3, 'total': 3}, 'ormosia_arborea': {'claroideoglomus': 3, 'total': 3}, 'caesalpinia_peltophoroides': {'claroideoglomus': 3, 'total': 3}, 'platypodium_elegans': {'claroideoglomus': 3, 'total': 3}, 'macherium_stipitatum': {'claroideoglomus': 2, 'total': 2}, 'myroxylon_peruiferum': {'claroideoglomus': 3, 'total': 3}, 'hymenaea_courbaril': {'claroideoglomus': 3, 'total': 3}, 'ceiba_speciosa': {'claroideoglomus': 3, 'total': 3}, 'tabebuia_reseoalba': {'claroideoglomus': 1, 'total': 1}, 'solanum_granulosoleprosum': {'claroideoglomus': 1, 'total': 1}, 'lithraea_molleoides': {'claroideoglomus': 1, 'total': 1}, 'trema_micrantha': {'claroideoglomus': 1, 'total': 1}, 'luehea_grandiflora': {'claroideoglomus': 1, 'total': 1}, 'senna_spectabilis': {'claroideoglomus': 1, 'glomus': 2, 'total': 3}, 'croton_floribundus': {'claroideoglomus': 1, 'total': 1}, 'tibouchina_granulosa': {'claroideoglomus': 1, 'total': 1}, 'cecropia_pachystachya': {'claroideoglomus': 1, 'total': 1}, 'cordia_trichotoma': {'claroideoglomus': 1, 'total': 1}, 'senna_macranthera': {'claroideoglomus': 1, 'total': 1}, 'cedrela_fissilis': {'claroideoglomus': 5, 'gigaspora': 4, 'acaulospora': 4, 'total': 13}, 'caesalpinia_ferrea': {'claroideoglomus': 2, 'total': 2}, 'myrsine_umbellata': {'claroideoglomus': 1, 'total': 1}, 'tabebuia_impetiginosa': {'claroideoglomus': 2, 'total': 2}, 'sapindus_saponaria': {'claroideoglomus': 3, 'total': 3}, 'tabebuia_serratifolia': {'claroideoglomus': 3, 'total': 3}, 'aspidosperma_parvifolium': {'claroideoglomus': 3, 'total': 3}, 'copaifera_langsdorffii': {'claroideoglomus': 3, 'total': 3}, 'lotus_corniculatus': {'rhizoglomus': 2, 'total': 2}, 'rumex_acetosa': {'gigaspora': 1, 'rhizoglomus': 1, 'total': 2}, 'veronica_chamaedrys': {'gigaspora': 1, 'rhizoglomus': 1, 'total': 2}, 'plantago_lanceolata': {'gigaspora': 1, 'rhizoglomus': 1, 'total': 2}, 'vicia_cracca': {'gigaspora': 1, 'rhizoglomus': 1, 'total': 2}, 'trifolium_pratense': {'gigaspora': 1, 'rhizoglomus': 1, 'funneliformis': 9, 'total': 11}, 'festuca_rubra': {'gigaspora': 1, 'rhizoglomus': 1, 'total': 2}, 'holcus_lanatus': {'gigaspora': 1, 'rhizoglomus': 1, 'total': 2}, 'hippophae_tibetana': {'glomus': 4, 'total': 4}, 'dyera_polyphylla': {'gigaspora': 1, 'rhizoglomus': 1, 'total': 2}, 'aquilaria_filaria': {'gigaspora': 1, 'rhizoglomus': 1, 'total': 2}, 'coffea_arabica': {'rhizoglomus': 6, 'acaulospora': 5, 'gigaspora': 1, 'funneliformis': 2, 'ambispora': 1, 'glomus': 1, 'total': 16}, 'brachypodium_pinnatum': {'glomus': 2, 'total': 2}, 'prunella_vulgaris': {'glomus': 2, 'total': 2}, 'chrysanthemum_cinerariaefolium': {'diversispora': 1, 'claroideoglomus': 1, 'archaeospora': 1, 'rhizoglomus': 1, 'total': 4}, 'araucaria_angustifolia': {'rhizoglomus': 1, 'total': 1}, 'eucalyptus_urophylla': {'scleroderma': 22, 'pisolithus': 28, 'laccaria': 4, 'total': 54}, 'nothofagus_dombeyi': {'descolea': 2, 'pisolithus': 2, 'total': 4}, 'salix_dasyclados': {'paxillus': 4, 'total': 4}, 'populus_trichocarpa': {'paxillus': 2, 'laccaria': 3, 'total': 5}, 'pinus_sylvestris': {'paxillus': 8, 'suillus': 23, 'cenococcum': 1, 'pisolithus': 3, 'thelephora': 1, 'rhizopogon': 1, 'hebeloma': 2, 'laccaria': 14, 'piloderma': 1, 'total': 54}, 'eucalyptus_globulus': {'cortinarius': 17, 'paxillus': 4, 'hysterangium': 8, 'hymenogaster': 10, 'amanita': 10, 'laccaria': 17, 'descolea': 9, 'hydnangium': 7, 'pisolithus': 13, 'scleroderma': 25, 'austrogautieria': 1, 'hydnum': 1, 'hydnotrya': 1, 'descomyces': 1, 'mesophellia': 2, 'leucopaxillus': 1, 'tricholoma': 1, 'rhizoglomus': 5, 'claroideoglomus': 5, 'septoglomus': 10, 'scutellospora': 1, 'acaulospora': 1, 'glomus': 1, 'boletus': 1, 'chondrogaster': 1, 'rhizopogon': 1, 'protubera': 1, 'zelleromyces': 3, 'hebeloma': 1, 'total': 159}, 'eucalyptus_diversicolor': {'cortinarius': 4, 'paxillus': 2, 'hysterangium': 5, 'hymenogaster': 5, 'amanita': 2, 'laccaria': 44, 'descolea': 24, 'hydnangium': 2, 'pisolithus': 2, 'scleroderma': 2, 'total': 92}, 'pinus_cornata': {'wilcoxina': 3, 'total': 3}, 'afzelia_bella': {'pisolithus': 1, 'thelephora': 1, 'scleroderma': 2, 'total': 4}, 'anthonotha_macrophyllum': {'pisolithus': 1, 'thelephora': 1, 'scleroderma': 2, 'total': 4}, 'cryptosepalum_tetraphyllum': {'pisolithus': 1, 'thelephora': 1, 'scleroderma': 2, 'total': 4}, 'paramacrolobium_coeruleum': {'pisolithus': 1, 'thelephora': 1, 'scleroderma': 2, 'total': 4}, 'uapaca_somon': {'pisolithus': 1, 'thelephora': 1, 'scleroderma': 2, 'total': 4}, 'quercus_ilex': {'tuber': 2, 'total': 2}, 'quercus_faginea': {'tuber': 1, 'total': 1}, 'quercus_petraea': {'tuber': 1, 'total': 1}, 'pinus_halepensis': {'tuber': 1, 'suillus': 2, 'pisolithus': 3, 'total': 6}, 'acacia_sp': {'pisolithus': 10, 'total': 10}, 'pseudotsuga_menziesii': {'laccaria': 17, 'hebeloma': 1, 'rhizopogon': 15, 'total': 33}, 'eucalyptus_pilularis': {'pisolithus': 7, 'total': 7}, 'picea_abies': {'piloderma': 16, 'suillus': 4, 'inocybe': 2, 'hebeloma': 5, 'laccaria': 5, 'total': 32}, 'alnus_incana': {'paxillus': 6, 'total': 6}, 'pinus_taeda': {'pisolithus': 31, 'rhizoglomus': 2, 'total': 33}, 'pinus_elliottii': {'pisolithus': 2, 'total': 2}, 'pinus_clausa': {'pisolithus': 2, 'total': 2}, 'pinus_virginiana': {'pisolithus': 2, 'total': 2}, 'pinus_strobus': {'pisolithus': 8, 'total': 8}, 'picea_mariana': {'laccaria': 12, 'paxillus': 1, 'cortinarius': 1, 'suillus': 1, 'cenococcum': 1, 'thelephora': 1, 'hebeloma': 2, 'tricholoma': 2, 'pisolithus': 2, 'total': 23}, 'eucalyptus_tetrodonta': {'nothocastoreum': 1, 'laccaria': 1, 'pisolithus': 1, 'scleroderma': 1, 'tylopilus': 1, 'zelleromyces': 1, 'total': 6}, 'eucalyptus_miniata': {'nothocastoreum': 2, 'elaphomyces': 4, 'scleroderma': 1, 'gautieria': 2, 'pisolithus': 2, 'mesophellia': 1, 'gummiglobus': 2, 'laccaria': 1, 'total': 15}, 'pinus_ponderosa': {'cenococcum': 1, 'pisolithus': 1, 'thelephora': 1, 'suillus': 1, 'rhizopogon': 1, 'total': 5}, 'pinus_pinea': {'hebeloma': 5, 'laccaria': 5, 'pisolithus': 5, 'melanogaster': 2, 'rhizopogon': 14, 'scleroderma': 5, 'total': 36}, 'shorea_pinanga': {'scleroderma': 1, 'pisolithus': 1, 'total': 2}, 'pinus_lambertiana': {'pisolithus': 10, 'total': 10}, 'pinus_jeffreyi': {'pisolithus': 10, 'total': 10}, 'betula_lenta': {'pisolithus': 6, 'total': 6}, 'ipomoea_carnea': {'rhizoglomus': 3, 'total': 3}, 'canavalia_ensiformis': {'claroideoglomus': 4, 'rhizoglomus': 4, 'glomus': 4, 'total': 12}, 'lavandula_spica': {'funneliformis': 24, 'total': 24}, 'ananas_comosus': {'glomus': 5, 'rhizoglomus': 15, 'total': 20}, 'gossypium_hirsutum': {'rhizoglomus': 1, 'total': 1}, 'clusia_minor': {'racocetra': 2, 'total': 2}, 'clusia_multiflora': {'racocetra': 2, 'total': 2}, 'prunus_cerasifera': {'funneliformis': 2, 'total': 2}, 'prunus_domestica': {'funneliformis': 8, 'scutellospora': 6, 'total': 14}, 'allium_cepa': {'diversispora': 3, 'rhizoglomus': 3, 'gigaspora': 5, 'glomus': 5, 'total': 16}, 'eucalyptus_europhylla': {'scutellospora': 1, 'glomus': 1, 'acaulospora': 1, 'laccaria': 1, 'total': 4}, 'liquidambar_styraciflua': {'rhizoglomus': 2, 'total': 2}, 'solanum_tuberosum': {'rhizoglomus': 1, 'total': 1}, 'pterocarpus_officinalis': {'rhizoglomus': 4, 'total': 4}, 'dianthus_caryophyllus': {'rhizoglomus': 1, 'total': 1}, 'prunus_maritima': {'rhizoglomus': 1, 'total': 1}, 'solidago_sempervirens': {'rhizoglomus': 1, 'total': 1}, 'musa_aab': {'dentiscutata': 1, 'rhizoglomus': 1, 'total': 2}, 'agrostis_stolonifera': {'rhizoglomus': 2, 'total': 2}, 'senna_siamea': {'glomus': 2, 'total': 2}, 'sauropus_androgynu': {'glomus': 3, 'total': 3}, 'senna_reticulata': {'glomus': 2, 'total': 2}, 'gliricidia_sepium': {'glomus': 2, 'boletus': 2, 'total': 4}, 'calopogonium_caeruleum': {'rhizoglomus': 50, 'glomus': 50, 'total': 100}, 'alnus_cordata': {'rhizoglomus': 2, 'funneliformis': 2, 'total': 4}, 'lolium_perenne': {'funneliformis': 2, 'total': 2}, 'pistacia_vera': {'funneliformis': 4, 'rhizoglomus': 6, 'claroideoglomus': 2, 'glomus': 2, 'gigaspora': 2, 'total': 16}, 'pistacia_eurycarpa': {'claroideoglomus': 2, 'rhizoglomus': 6, 'gigaspora': 2, 'glomus': 2, 'funneliformis': 4, 'total': 16}, 'pistacia_atlantica': {'claroideoglomus': 2, 'rhizoglomus': 6, 'gigaspora': 2, 'glomus': 2, 'funneliformis': 4, 'total': 16}, 'pistacia_terebinthus': {'claroideoglomus': 2, 'rhizoglomus': 6, 'gigaspora': 2, 'glomus': 2, 'funneliformis': 4, 'total': 16}, 'fragaria_ananassa': {'funneliformis': 13, 'diversispora': 3, 'rhizoglomus': 20, 'claroideoglomus': 6, 'glomus': 6, 'total': 48}, 'origanum_vulgare': {'funneliformis': 3, 'total': 3}, 'stylosanthes_guianesis': {'acaulospora': 8, 'gigaspora': 8, 'glomus': 8, 'rhizoglomus': 16, 'funneliformis': 4, 'total': 44}, 'calliandra_calothyrsus': {'claroideoglomus': 2, 'total': 2}, 'morus_alba': {'rhizoglomus': 1, 'total': 1}, 'asparagus_officinalis': {'gigaspora': 2, 'total': 2}, 'allium_fistulosum': {'gigaspora': 36, 'rhizoglomus': 10, 'total': 46}, 'ceratopetalum_apetalum': {'funneliformis': 3, 'total': 3}, 'acacia_abyssinica': {'funneliformis': 2, 'total': 2}, 'prunus_persica': {'scutellospora': 6, 'funneliformis': 6, 'total': 12}, 'podophyllum_peltatum': {'racocetra': 1, 'gigaspora': 1, 'funneliformis': 1, 'acaulospora': 1, 'total': 4}, 'dendrocalamus_strictus': {'glomus': 8, 'total': 8}, 'citrus_limonia': {'rhizoglomus': 15, 'total': 15}, 'vigna_parkeri': {'claroideoglomus': 6, 'total': 6}, 'cupressus_atlantica': {'rhizoglomus': 4, 'total': 4}, 'vitis_rupestris': {'rhizoglomus': 2, 'total': 2}, 'prunus_avium': {'funneliformis': 1, 'total': 1}, 'fraxinus_excelsior': {'funneliformis': 1, 'total': 1}, 'acer_pseudoplatanus': {'funneliformis': 1, 'total': 1}, 'juglans_nigra': {'funneliformis': 1, 'total': 1}, 'tectona_grandis': {'scutellospora': 1, 'funneliformis': 2, 'glomus': 1, 'ambispora': 1, 'rhizoglomus': 2, 'gigaspora': 1, 'acaulospora': 1, 'total': 9}, 'plectranthus_amboinicus': {'acaulospora': 2, 'dentiscutata': 1, 'glomus': 1, 'funneliformis': 2, 'gigaspora': 1, 'total': 7}, 'spartium_junceum': {'rhizoglomus': 1, 'total': 1}, 'hevea_brasiliensis': {'funneliformis': 1, 'total': 1}, 'rubus_idaeus': {'claroideoglomus': 1, 'rhizoglomus': 2, 'racocetra': 1, 'gigaspora': 3, 'scutellospora': 1, 'dentiscutata': 1, 'total': 9}, 'gossypium_arboreum': {'funneliformis': 8, 'total': 8}, 'anadenanthera_peregrina': {'gigaspora': 4, 'claroideoglomus': 4, 'acaulospora': 4, 'total': 12}, 'berkheya_coddii': {'rhizoglomus': 2, 'total': 2}, 'medicago_arborea': {'rhizoglomus': 2, 'funneliformis': 2, 'glomus': 2, 'total': 6}, 'persea_americana': {'rhizoglomus': 3, 'total': 3}, 'acacia_platycarpa': {'rhizoglomus': 1, 'total': 1}, 'acacia_sclerosperma': {'rhizoglomus': 1, 'total': 1}, 'acacia_monticola': {'rhizoglomus': 1, 'total': 1}, 'acacia_seyal': {'rhizoglomus': 1, 'total': 1}, 'sesbania_sericea': {'rhizoglomus': 1, 'total': 1}, 'sesbania_sp': {'rhizoglomus': 1, 'total': 1}, 'sesbania_javanica': {'rhizoglomus': 1, 'total': 1}, 'citrus_reticulata': {'funneliformis': 2, 'total': 2}, 'ipomoea_batatas': {'gigaspora': 2, 'total': 2}, 'litchi_chinensis': {'rhizoglomus': 1, 'gigaspora': 1, 'total': 2}, 'macaranga_denticulata': {'rhizoglomus': 1, 'total': 1}, 'ostryopsis_davidiana': {'tricholoma': 4, 'suillus': 2, 'rhizopogon': 2, 'leucocortinarius': 2, 'total': 10}, 'picea_glauca': {'laccaria': 4, 'suillus': 4, 'hebeloma': 6, 'total': 14}, 'pinus_banksiana': {'hebeloma': 6, 'laccaria': 7, 'suillus': 9, 'cortinarius': 1, 'thelephora': 1, 'tricholoma': 2, 'cenococcum': 2, 'pisolithus': 2, 'rhizopogon': 1, 'paxillus': 4, 'total': 35}, 'quercus_stellata': {'pisolithus': 2, 'total': 2}, 'eucalyptus_grandis': {'pisolithus': 20, 'total': 20}, 'pinus_densiflora': {'pisolithus': 2, 'total': 2}, 'quercus_robur': {'cenococcum': 1, 'suillus': 2, 'thelephora': 1, 'pisolithus': 2, 'cortinarius': 2, 'laccaria': 2, 'hebeloma': 2, 'total': 12}, 'quercus_velutina': {'suillus': 2, 'thelephora': 1, 'pisolithus': 4, 'total': 7}, 'quercus_alba': {'suillus': 2, 'thelephora': 1, 'pisolithus': 2, 'total': 5}, 'pinus_radiata': {'scleroderma': 2, 'rhizopogon': 6, 'total': 8}, 'quercus_rubra': {'laccaria': 6, 'total': 6}, 'pinus_pinaster': {'pisolithus': 106, 'total': 106}, 'pinus_resinosa': {'hebeloma': 14, 'pisolithus': 1, 'total': 15}, 'acacia_auriculiformis': {'boletus': 2, 'total': 2}, 'eucalyptus_pellita': {'scleroderma': 2, 'pisolithus': 1, 'total': 3}, 'pinus_contorta': {'rhizopogon': 3, 'laccaria': 3, 'total': 6}, 'pinus_rigida': {'pisolithus': 6, 'total': 6}, 'castanopsis_fissa': {'pisolithus': 7, 'total': 7}, 'shorea_seminis': {'scleroderma': 2, 'pisolithus': 2, 'total': 4}, 'alnus_tenuifolia': {'alpova': 6, 'total': 6}}\n",
      "{'claroideoglomus': 152, 'gigaspora': 116, 'rhizoglomus': 464, 'funneliformis': 216, 'glomus': 202, 'total': 2218, 'septoglomus': 16, 'acaulospora': 45, 'pisolithus': 345, 'thelephora': 13, 'scleroderma': 85, 'diversispora': 10, 'scutellospora': 25, 'boletus': 9, 'racocetra': 7, 'dentiscutata': 5, 'ambispora': 3, 'archaeospora': 1, 'laccaria': 146, 'descolea': 35, 'paxillus': 31, 'suillus': 52, 'cenococcum': 6, 'rhizopogon': 44, 'hebeloma': 44, 'piloderma': 17, 'cortinarius': 25, 'hysterangium': 13, 'hymenogaster': 15, 'amanita': 12, 'hydnangium': 9, 'austrogautieria': 1, 'hydnum': 1, 'hydnotrya': 1, 'descomyces': 1, 'mesophellia': 3, 'leucopaxillus': 1, 'tricholoma': 9, 'chondrogaster': 1, 'protubera': 1, 'zelleromyces': 4, 'wilcoxina': 3, 'tuber': 5, 'inocybe': 2, 'nothocastoreum': 3, 'tylopilus': 1, 'elaphomyces': 4, 'gautieria': 2, 'gummiglobus': 2, 'melanogaster': 2, 'leucocortinarius': 2, 'alpova': 6}\n"
     ]
    }
   ],
   "source": [
    "#for all (Unique) plant speices in PlantSpecies, give amount of each (unique) Fungal genus in FungalGenus\n",
    "\n",
    "counts = {}\n",
    "for index, row in filtered_rawdata_MycoDB_na_p.iterrows():\n",
    "    plant = row[\"PlantSpecies\"]\n",
    "    fungus = row[\"FungalGenus\"]\n",
    "    if plant not in counts:\n",
    "        counts[plant] = {}\n",
    "    if fungus not in counts[plant]:\n",
    "        counts[plant][fungus] = 0\n",
    "    counts[plant][fungus] += 1\n",
    "      \n",
    "for plant in counts.keys():\n",
    "    counts[plant][\"total\"] = sum(counts[plant].values())\n",
    "\n",
    "print (counts)\n",
    "\n",
    "fungal_counts = {}\n",
    "for plant in counts:\n",
    "    for fungus in counts[plant]:\n",
    "        if fungus not in fungal_counts:\n",
    "            fungal_counts[fungus] = 0\n",
    "        fungal_counts[fungus] += counts[plant][fungus]\n",
    "#del fungal_counts[\"total\"]\n",
    "print(fungal_counts)\n",
    "fungal_count_p = fungal_counts"
   ]
  },
  {
   "cell_type": "code",
   "execution_count": 10,
   "id": "cbf0b19a",
   "metadata": {
    "scrolled": true
   },
   "outputs": [
    {
     "name": "stdout",
     "output_type": "stream",
     "text": [
      "{'claroideoglomus': 104, 'gigaspora': 85, 'acaulospora': 34, 'rhizoglomus': 362, 'funneliformis': 416, 'sclerocystis': 18, 'total': 1153, 'glomus': 80, 'septoglomus': 10, 'scutellospora': 20, 'diversispora': 2, 'racocetra': 1, 'dentiscutata': 3, 'cetraspora': 1, 'laccaria': 12, 'rhizopogon': 5}\n",
      "{'claroideoglomus': 152, 'gigaspora': 116, 'rhizoglomus': 464, 'funneliformis': 216, 'glomus': 202, 'total': 2218, 'septoglomus': 16, 'acaulospora': 45, 'pisolithus': 345, 'thelephora': 13, 'scleroderma': 85, 'diversispora': 10, 'scutellospora': 25, 'boletus': 9, 'racocetra': 7, 'dentiscutata': 5, 'ambispora': 3, 'archaeospora': 1, 'laccaria': 146, 'descolea': 35, 'paxillus': 31, 'suillus': 52, 'cenococcum': 6, 'rhizopogon': 44, 'hebeloma': 44, 'piloderma': 17, 'cortinarius': 25, 'hysterangium': 13, 'hymenogaster': 15, 'amanita': 12, 'hydnangium': 9, 'austrogautieria': 1, 'hydnum': 1, 'hydnotrya': 1, 'descomyces': 1, 'mesophellia': 3, 'leucopaxillus': 1, 'tricholoma': 9, 'chondrogaster': 1, 'protubera': 1, 'zelleromyces': 4, 'wilcoxina': 3, 'tuber': 5, 'inocybe': 2, 'nothocastoreum': 3, 'tylopilus': 1, 'elaphomyces': 4, 'gautieria': 2, 'gummiglobus': 2, 'melanogaster': 2, 'leucocortinarius': 2, 'alpova': 6}\n"
     ]
    }
   ],
   "source": [
    "#Test to see if fungal_count extraction worked as intended\n",
    "\n",
    "print (fungal_count_ab)\n",
    "print (fungal_count_p)"
   ]
  },
  {
   "cell_type": "code",
   "execution_count": 11,
   "id": "8d70988a",
   "metadata": {},
   "outputs": [],
   "source": [
    "#turn dict into df so combining into a three column df is possible\n",
    "\n",
    "fungal_count_ab_df = pd.DataFrame.from_dict(fungal_count_ab, orient = \"index\")\n",
    "fungal_count_p_df = pd.DataFrame.from_dict(fungal_count_p, orient = \"index\")\n"
   ]
  },
  {
   "cell_type": "code",
   "execution_count": 12,
   "id": "bbca232e",
   "metadata": {},
   "outputs": [
    {
     "name": "stdout",
     "output_type": "stream",
     "text": [
      "                    0\n",
      "claroideoglomus   104\n",
      "gigaspora          85\n",
      "acaulospora        34\n",
      "rhizoglomus       362\n",
      "funneliformis     416\n",
      "sclerocystis       18\n",
      "total            1153\n",
      "glomus             80\n",
      "septoglomus        10\n",
      "scutellospora      20\n",
      "diversispora        2\n",
      "racocetra           1\n",
      "dentiscutata        3\n",
      "cetraspora          1\n",
      "laccaria           12\n",
      "rhizopogon          5\n",
      "                     0\n",
      "claroideoglomus    152\n",
      "gigaspora          116\n",
      "rhizoglomus        464\n",
      "funneliformis      216\n",
      "glomus             202\n",
      "total             2218\n",
      "septoglomus         16\n",
      "acaulospora         45\n",
      "pisolithus         345\n",
      "thelephora          13\n",
      "scleroderma         85\n",
      "diversispora        10\n",
      "scutellospora       25\n",
      "boletus              9\n",
      "racocetra            7\n",
      "dentiscutata         5\n",
      "ambispora            3\n",
      "archaeospora         1\n",
      "laccaria           146\n",
      "descolea            35\n",
      "paxillus            31\n",
      "suillus             52\n",
      "cenococcum           6\n",
      "rhizopogon          44\n",
      "hebeloma            44\n",
      "piloderma           17\n",
      "cortinarius         25\n",
      "hysterangium        13\n",
      "hymenogaster        15\n",
      "amanita             12\n",
      "hydnangium           9\n",
      "austrogautieria      1\n",
      "hydnum               1\n",
      "hydnotrya            1\n",
      "descomyces           1\n",
      "mesophellia          3\n",
      "leucopaxillus        1\n",
      "tricholoma           9\n",
      "chondrogaster        1\n",
      "protubera            1\n",
      "zelleromyces         4\n",
      "wilcoxina            3\n",
      "tuber                5\n",
      "inocybe              2\n",
      "nothocastoreum       3\n",
      "tylopilus            1\n",
      "elaphomyces          4\n",
      "gautieria            2\n",
      "gummiglobus          2\n",
      "melanogaster         2\n",
      "leucocortinarius     2\n",
      "alpova               6\n"
     ]
    }
   ],
   "source": [
    "print (fungal_count_ab_df)\n",
    "print (fungal_count_p_df)"
   ]
  },
  {
   "cell_type": "code",
   "execution_count": 13,
   "id": "70eabcdd",
   "metadata": {},
   "outputs": [],
   "source": [
    "#Unable to figure out how to make index column into real column without loosing data, for merge. To and read csv to make it a column\n",
    "\n",
    "fungal_count_ab_df.to_csv('fungal_count_ab_df.csv', sep=',', index=True, encoding='utf-8')\n",
    "\n",
    "fungal_count_p_df.to_csv('fungal_count_p_df.csv', sep=',', index=True, encoding='utf-8')"
   ]
  },
  {
   "cell_type": "code",
   "execution_count": 14,
   "id": "78bcff45",
   "metadata": {},
   "outputs": [
    {
     "name": "stdout",
     "output_type": "stream",
     "text": [
      "        FungalGenus  FungalCount_ab\n",
      "0   claroideoglomus             104\n",
      "1         gigaspora              85\n",
      "2       acaulospora              34\n",
      "3       rhizoglomus             362\n",
      "4     funneliformis             416\n",
      "5      sclerocystis              18\n",
      "6             total            1153\n",
      "7            glomus              80\n",
      "8       septoglomus              10\n",
      "9     scutellospora              20\n",
      "10     diversispora               2\n",
      "11        racocetra               1\n",
      "12     dentiscutata               3\n",
      "13       cetraspora               1\n",
      "14         laccaria              12\n",
      "15       rhizopogon               5\n",
      "         FungalGenus  FungalCount_p\n",
      "0    claroideoglomus            152\n",
      "1          gigaspora            116\n",
      "2        rhizoglomus            464\n",
      "3      funneliformis            216\n",
      "4             glomus            202\n",
      "5              total           2218\n",
      "6        septoglomus             16\n",
      "7        acaulospora             45\n",
      "8         pisolithus            345\n",
      "9         thelephora             13\n",
      "10       scleroderma             85\n",
      "11      diversispora             10\n",
      "12     scutellospora             25\n",
      "13           boletus              9\n",
      "14         racocetra              7\n",
      "15      dentiscutata              5\n",
      "16         ambispora              3\n",
      "17      archaeospora              1\n",
      "18          laccaria            146\n",
      "19          descolea             35\n",
      "20          paxillus             31\n",
      "21           suillus             52\n",
      "22        cenococcum              6\n",
      "23        rhizopogon             44\n",
      "24          hebeloma             44\n",
      "25         piloderma             17\n",
      "26       cortinarius             25\n",
      "27      hysterangium             13\n",
      "28      hymenogaster             15\n",
      "29           amanita             12\n",
      "30        hydnangium              9\n",
      "31   austrogautieria              1\n",
      "32            hydnum              1\n",
      "33         hydnotrya              1\n",
      "34        descomyces              1\n",
      "35       mesophellia              3\n",
      "36     leucopaxillus              1\n",
      "37        tricholoma              9\n",
      "38     chondrogaster              1\n",
      "39         protubera              1\n",
      "40      zelleromyces              4\n",
      "41         wilcoxina              3\n",
      "42             tuber              5\n",
      "43           inocybe              2\n",
      "44    nothocastoreum              3\n",
      "45         tylopilus              1\n",
      "46       elaphomyces              4\n",
      "47         gautieria              2\n",
      "48       gummiglobus              2\n",
      "49      melanogaster              2\n",
      "50  leucocortinarius              2\n",
      "51            alpova              6\n"
     ]
    }
   ],
   "source": [
    "#Rereading data and creating correct column headings\n",
    "\n",
    "ab_fungal_mergedata = pd.read_csv('fungal_count_ab_df.csv')\n",
    "ab_fungal_mergedata.rename( columns={'Unnamed: 0':'FungalGenus'}, inplace=True )\n",
    "ab_fungal_mergedata.rename( columns={'0':'FungalCount_ab'}, inplace=True )\n",
    "\n",
    "p_fungal_mergedata = pd.read_csv('fungal_count_p_df.csv')\n",
    "p_fungal_mergedata.rename( columns={'Unnamed: 0':'FungalGenus'}, inplace=True )\n",
    "p_fungal_mergedata.rename( columns={'0':'FungalCount_p'}, inplace=True )\n",
    "\n",
    "print(ab_fungal_mergedata)\n",
    "print(p_fungal_mergedata)"
   ]
  },
  {
   "cell_type": "code",
   "execution_count": 15,
   "id": "b265b5aa",
   "metadata": {},
   "outputs": [
    {
     "name": "stdout",
     "output_type": "stream",
     "text": [
      "         FungalGenus  FungalCount_p  FungalCount_ab\n",
      "0    claroideoglomus            152           104.0\n",
      "1          gigaspora            116            85.0\n",
      "2        rhizoglomus            464           362.0\n",
      "3      funneliformis            216           416.0\n",
      "4             glomus            202            80.0\n",
      "5              total           2218          1153.0\n",
      "6        septoglomus             16            10.0\n",
      "7        acaulospora             45            34.0\n",
      "8         pisolithus            345             NaN\n",
      "9         thelephora             13             NaN\n",
      "10       scleroderma             85             NaN\n",
      "11      diversispora             10             2.0\n",
      "12     scutellospora             25            20.0\n",
      "13           boletus              9             NaN\n",
      "14         racocetra              7             1.0\n",
      "15      dentiscutata              5             3.0\n",
      "16         ambispora              3             NaN\n",
      "17      archaeospora              1             NaN\n",
      "18          laccaria            146            12.0\n",
      "19          descolea             35             NaN\n",
      "20          paxillus             31             NaN\n",
      "21           suillus             52             NaN\n",
      "22        cenococcum              6             NaN\n",
      "23        rhizopogon             44             5.0\n",
      "24          hebeloma             44             NaN\n",
      "25         piloderma             17             NaN\n",
      "26       cortinarius             25             NaN\n",
      "27      hysterangium             13             NaN\n",
      "28      hymenogaster             15             NaN\n",
      "29           amanita             12             NaN\n",
      "30        hydnangium              9             NaN\n",
      "31   austrogautieria              1             NaN\n",
      "32            hydnum              1             NaN\n",
      "33         hydnotrya              1             NaN\n",
      "34        descomyces              1             NaN\n",
      "35       mesophellia              3             NaN\n",
      "36     leucopaxillus              1             NaN\n",
      "37        tricholoma              9             NaN\n",
      "38     chondrogaster              1             NaN\n",
      "39         protubera              1             NaN\n",
      "40      zelleromyces              4             NaN\n",
      "41         wilcoxina              3             NaN\n",
      "42             tuber              5             NaN\n",
      "43           inocybe              2             NaN\n",
      "44    nothocastoreum              3             NaN\n",
      "45         tylopilus              1             NaN\n",
      "46       elaphomyces              4             NaN\n",
      "47         gautieria              2             NaN\n",
      "48       gummiglobus              2             NaN\n",
      "49      melanogaster              2             NaN\n",
      "50  leucocortinarius              2             NaN\n",
      "51            alpova              6             NaN\n",
      "        FungalGenus  FungalCount_p  FungalCount_ab\n",
      "0   claroideoglomus            152           104.0\n",
      "1         gigaspora            116            85.0\n",
      "2       rhizoglomus            464           362.0\n",
      "3     funneliformis            216           416.0\n",
      "4            glomus            202            80.0\n",
      "6       septoglomus             16            10.0\n",
      "7       acaulospora             45            34.0\n",
      "11     diversispora             10             2.0\n",
      "12    scutellospora             25            20.0\n",
      "14        racocetra              7             1.0\n",
      "15     dentiscutata              5             3.0\n",
      "18         laccaria            146            12.0\n",
      "23       rhizopogon             44             5.0\n"
     ]
    }
   ],
   "source": [
    "#Combined DF and remove NaN rows\n",
    "\n",
    "ab_p_MycoDB_merged = p_fungal_mergedata.merge(ab_fungal_mergedata[['FungalGenus', 'FungalCount_ab']], on = 'FungalGenus', how = 'left')\n",
    "print(ab_p_MycoDB_merged)\n",
    "\n",
    "ab_p_MycoDB_merged_na = ab_p_MycoDB_merged.dropna()\n",
    "ab_p_MycoDB_merged_na = ab_p_MycoDB_merged_na.drop([5])\n",
    "print (ab_p_MycoDB_merged_na)\n"
   ]
  },
  {
   "cell_type": "code",
   "execution_count": 16,
   "id": "698df0af",
   "metadata": {
    "scrolled": true
   },
   "outputs": [
    {
     "name": "stdout",
     "output_type": "stream",
     "text": [
      "           FungalGenus  FungalCount_p  FungalCount_ab\n",
      "0      claroideoglomus            152           104.0\n",
      "1            gigaspora            116            85.0\n",
      "2          rhizoglomus            464           362.0\n",
      "3        funneliformis            216           416.0\n",
      "4               glomus            202            80.0\n",
      "6          septoglomus             16            10.0\n",
      "7          acaulospora             45            34.0\n",
      "11        diversispora             10             2.0\n",
      "12       scutellospora             25            20.0\n",
      "14           racocetra              7             1.0\n",
      "15        dentiscutata              5             3.0\n",
      "18            laccaria            146            12.0\n",
      "23          rhizopogon             44             5.0\n",
      "total                            1448          1134.0\n"
     ]
    }
   ],
   "source": [
    "#Creating a total for matching data in each column\n",
    "\n",
    "ab_p_MycoDB_merged_na.loc['total']= ab_p_MycoDB_merged_na.sum()\n",
    "ab_p_MycoDB_merged_na.loc[ab_p_MycoDB_merged_na.index[-1], 'FungalGenus'] = ''\n",
    "\n",
    "print(ab_p_MycoDB_merged_na)"
   ]
  },
  {
   "cell_type": "code",
   "execution_count": 90,
   "id": "c3a2d9c0",
   "metadata": {},
   "outputs": [],
   "source": [
    "ab_p_MycoDB_merged_na[\"FungalCount_p%\"] = ((ab_p_MycoDB_merged_na.iloc[0:14,1] / ab_p_MycoDB_merged_na.iloc[13,1]))"
   ]
  },
  {
   "cell_type": "code",
   "execution_count": 91,
   "id": "a5cce75d",
   "metadata": {},
   "outputs": [],
   "source": [
    "ab_p_MycoDB_merged_na[\"FungalCount_ab%\"] = ((ab_p_MycoDB_merged_na.iloc[0:14,2] / ab_p_MycoDB_merged_na.iloc[13,2]))"
   ]
  },
  {
   "cell_type": "code",
   "execution_count": 92,
   "id": "5c5e22dd",
   "metadata": {},
   "outputs": [
    {
     "name": "stdout",
     "output_type": "stream",
     "text": [
      "           FungalGenus  FungalCount_p  FungalCount_ab  FungalCount_p%  \\\n",
      "0      claroideoglomus            152           104.0        0.104972   \n",
      "1            gigaspora            116            85.0        0.080110   \n",
      "2          rhizoglomus            464           362.0        0.320442   \n",
      "3        funneliformis            216           416.0        0.149171   \n",
      "4               glomus            202            80.0        0.139503   \n",
      "6          septoglomus             16            10.0        0.011050   \n",
      "7          acaulospora             45            34.0        0.031077   \n",
      "11        diversispora             10             2.0        0.006906   \n",
      "12       scutellospora             25            20.0        0.017265   \n",
      "14           racocetra              7             1.0        0.004834   \n",
      "15        dentiscutata              5             3.0        0.003453   \n",
      "18            laccaria            146            12.0        0.100829   \n",
      "23          rhizopogon             44             5.0        0.030387   \n",
      "total                            1448          1134.0        1.000000   \n",
      "\n",
      "       FungalCount_ab%  \n",
      "0             0.091711  \n",
      "1             0.074956  \n",
      "2             0.319224  \n",
      "3             0.366843  \n",
      "4             0.070547  \n",
      "6             0.008818  \n",
      "7             0.029982  \n",
      "11            0.001764  \n",
      "12            0.017637  \n",
      "14            0.000882  \n",
      "15            0.002646  \n",
      "18            0.010582  \n",
      "23            0.004409  \n",
      "total         1.000000  \n"
     ]
    }
   ],
   "source": [
    "print(ab_p_MycoDB_merged_na)"
   ]
  },
  {
   "cell_type": "code",
   "execution_count": 104,
   "id": "1325d227",
   "metadata": {},
   "outputs": [
    {
     "name": "stdout",
     "output_type": "stream",
     "text": [
      "           FungalGenus  FungalCount_p  FungalCount_ab  FungalCount_p%  \\\n",
      "0      claroideoglomus            152           104.0        0.104972   \n",
      "1            gigaspora            116            85.0        0.080110   \n",
      "2          rhizoglomus            464           362.0        0.320442   \n",
      "3        funneliformis            216           416.0        0.149171   \n",
      "4               glomus            202            80.0        0.139503   \n",
      "6          septoglomus             16            10.0        0.011050   \n",
      "7          acaulospora             45            34.0        0.031077   \n",
      "11        diversispora             10             2.0        0.006906   \n",
      "12       scutellospora             25            20.0        0.017265   \n",
      "14           racocetra              7             1.0        0.004834   \n",
      "15        dentiscutata              5             3.0        0.003453   \n",
      "18            laccaria            146            12.0        0.100829   \n",
      "23          rhizopogon             44             5.0        0.030387   \n",
      "total                            1448          1134.0        1.000000   \n",
      "\n",
      "       FungalCount_ab%  FungalCount_%_dif  \n",
      "0             0.091711           0.013262  \n",
      "1             0.074956           0.005155  \n",
      "2             0.319224           0.001218  \n",
      "3             0.366843          -0.217672  \n",
      "4             0.070547           0.068956  \n",
      "6             0.008818           0.002231  \n",
      "7             0.029982           0.001095  \n",
      "11            0.001764           0.005142  \n",
      "12            0.017637          -0.000371  \n",
      "14            0.000882           0.003952  \n",
      "15            0.002646           0.000808  \n",
      "18            0.010582           0.090247  \n",
      "23            0.004409           0.025978  \n",
      "total         1.000000           0.000000  \n"
     ]
    }
   ],
   "source": [
    "ab_p_MycoDB_merged_na[\"FungalCount_%_dif\"] = ((ab_p_MycoDB_merged_na.iloc[0:14,3] - ab_p_MycoDB_merged_na.iloc[0:14,4]))\n",
    "print(ab_p_MycoDB_merged_na)"
   ]
  },
  {
   "cell_type": "code",
   "execution_count": 105,
   "id": "aa52e301",
   "metadata": {},
   "outputs": [],
   "source": [
    "ab_p_MycoDB_merged_na.to_html(\"ab_p_MycoDB_merged_na_%.html\")"
   ]
  },
  {
   "cell_type": "code",
   "execution_count": 140,
   "id": "14528752",
   "metadata": {},
   "outputs": [
    {
     "name": "stdout",
     "output_type": "stream",
     "text": [
      "        FungalGenus  FungalCount_p  FungalCount_ab  FungalCount_p%  \\\n",
      "0   claroideoglomus            152           104.0        0.104972   \n",
      "1         gigaspora            116            85.0        0.080110   \n",
      "2       rhizoglomus            464           362.0        0.320442   \n",
      "3     funneliformis            216           416.0        0.149171   \n",
      "4            glomus            202            80.0        0.139503   \n",
      "6       septoglomus             16            10.0        0.011050   \n",
      "7       acaulospora             45            34.0        0.031077   \n",
      "11     diversispora             10             2.0        0.006906   \n",
      "12    scutellospora             25            20.0        0.017265   \n",
      "14        racocetra              7             1.0        0.004834   \n",
      "15     dentiscutata              5             3.0        0.003453   \n",
      "18         laccaria            146            12.0        0.100829   \n",
      "23       rhizopogon             44             5.0        0.030387   \n",
      "\n",
      "    FungalCount_ab%  FungalCount_%_dif  \n",
      "0          0.091711           0.013262  \n",
      "1          0.074956           0.005155  \n",
      "2          0.319224           0.001218  \n",
      "3          0.366843          -0.217672  \n",
      "4          0.070547           0.068956  \n",
      "6          0.008818           0.002231  \n",
      "7          0.029982           0.001095  \n",
      "11         0.001764           0.005142  \n",
      "12         0.017637          -0.000371  \n",
      "14         0.000882           0.003952  \n",
      "15         0.002646           0.000808  \n",
      "18         0.010582           0.090247  \n",
      "23         0.004409           0.025978  \n"
     ]
    }
   ],
   "source": [
    "ab_p_MycoDB_plot = ab_p_MycoDB_merged_na.drop(\"total\")\n",
    "print (ab_p_MycoDB_plot)\n",
    "\n",
    "ab_p_MycoDB_plot.to_html(\"ab_p_MycoDB_plot.html\")"
   ]
  },
  {
   "cell_type": "code",
   "execution_count": 99,
   "id": "5fdeb45c",
   "metadata": {},
   "outputs": [
    {
     "data": {
      "image/png": "[encoded data removed]",
      "text/plain": [
       "<Figure size 500x500 with 1 Axes>"
      ]
     },
     "metadata": {},
     "output_type": "display_data"
    }
   ],
   "source": [
    "plot_p = ab_p_MycoDB_plot.plot.pie(y=\"FungalCount_p%\", figsize=(5, 5))"
   ]
  },
  {
   "cell_type": "code",
   "execution_count": 100,
   "id": "39e940f3",
   "metadata": {},
   "outputs": [
    {
     "data": {
      "image/png": "[encoded data removed]",
      "text/plain": [
       "<Figure size 500x500 with 1 Axes>"
      ]
     },
     "metadata": {},
     "output_type": "display_data"
    }
   ],
   "source": [
    "plot_ab = ab_p_MycoDB_plot.plot.pie(y=\"FungalCount_ab%\", figsize=(5, 5))"
   ]
  },
  {
   "cell_type": "code",
   "execution_count": null,
   "id": "5adf3dbb",
   "metadata": {},
   "outputs": [],
   "source": []
  },
  {
   "cell_type": "code",
   "execution_count": null,
   "id": "4bf9e151",
   "metadata": {},
   "outputs": [],
   "source": []
  },
  {
   "cell_type": "code",
   "execution_count": 114,
   "id": "63a228bf",
   "metadata": {},
   "outputs": [
    {
     "name": "stdout",
     "output_type": "stream",
     "text": [
      "     Bacterial_associate_taxa    Fungal_host_taxa\n",
      "0               Achromobacter         Trichoderma\n",
      "1               Acinetobacter            Fusarium\n",
      "2                  Agrococcus            Fusarium\n",
      "3                Azospirillum            Fusarium\n",
      "4                    Bacillus            Fusarium\n",
      "...                       ...                 ...\n",
      "6044         Mycoplasma [MRE]      Lobosporangium\n",
      "6045         Mycoplasma [MRE]   Actinomortierella\n",
      "6046         Mycoplasma [MRE]  Lunasporangiospora\n",
      "6047         Mycoplasma [MRE]         Mortierella\n",
      "6048         Mycoplasma [MRE]              Podila\n",
      "\n",
      "[6049 rows x 2 columns]\n"
     ]
    }
   ],
   "source": [
    "print(rawdata_BFIBundle)"
   ]
  },
  {
   "cell_type": "code",
   "execution_count": 117,
   "id": "8cf3a652",
   "metadata": {},
   "outputs": [
    {
     "name": "stdout",
     "output_type": "stream",
     "text": [
      "     Bacterial_associate_taxa    Fungal_host_taxa\n",
      "0               Achromobacter         Trichoderma\n",
      "1               Acinetobacter            Fusarium\n",
      "2                  Agrococcus            Fusarium\n",
      "3                Azospirillum            Fusarium\n",
      "4                    Bacillus            Fusarium\n",
      "...                       ...                 ...\n",
      "6044         Mycoplasma [MRE]      Lobosporangium\n",
      "6045         Mycoplasma [MRE]   Actinomortierella\n",
      "6046         Mycoplasma [MRE]  Lunasporangiospora\n",
      "6047         Mycoplasma [MRE]         Mortierella\n",
      "6048         Mycoplasma [MRE]              Podila\n",
      "\n",
      "[6049 rows x 2 columns]\n"
     ]
    }
   ],
   "source": [
    "rawdata_BFIBundle_na.rename(columns={\"Fungal_host_taxa\" : \"FungalGenus\"})\n",
    "print(rawdata_BFIBundle_na)\n"
   ]
  },
  {
   "cell_type": "code",
   "execution_count": 123,
   "id": "2514535d",
   "metadata": {},
   "outputs": [
    {
     "name": "stdout",
     "output_type": "stream",
     "text": [
      "     Bacterial_associate_taxa    Fungal_host_taxa\n",
      "0               Achromobacter         trichoderma\n",
      "1               Acinetobacter            fusarium\n",
      "2                  Agrococcus            fusarium\n",
      "3                Azospirillum            fusarium\n",
      "4                    Bacillus            fusarium\n",
      "...                       ...                 ...\n",
      "6044         Mycoplasma [MRE]      lobosporangium\n",
      "6045         Mycoplasma [MRE]   actinomortierella\n",
      "6046         Mycoplasma [MRE]  lunasporangiospora\n",
      "6047         Mycoplasma [MRE]         mortierella\n",
      "6048         Mycoplasma [MRE]              podila\n",
      "\n",
      "[6049 rows x 2 columns]\n",
      "['claroideoglomus', 'gigaspora', 'rhizoglomus', 'funneliformis', 'glomus', 'septoglomus', 'acaulospora', 'diversispora', 'scutellospora', 'racocetra', 'dentiscutata', 'laccaria', 'rhizopogon', '']\n",
      "     Bacterial_associate_taxa Fungal_host_taxa\n",
      "46    Candidatus Moeniiplasma        gigaspora\n",
      "47    Candidatus Moeniiplasma  claroideoglomus\n",
      "48    Candidatus Moeniiplasma    funneliformis\n",
      "49    Candidatus Moeniiplasma    scutellospora\n",
      "51    Candidatus Moeniiplasma           glomus\n",
      "...                       ...              ...\n",
      "6036       Burkholderia [BRE]        gigaspora\n",
      "6037       Burkholderia [BRE]     dentiscutata\n",
      "6038       Burkholderia [BRE]      acaulospora\n",
      "6039       Burkholderia [BRE]    scutellospora\n",
      "6041       Burkholderia [BRE]        racocetra\n",
      "\n",
      "[197 rows x 2 columns]\n"
     ]
    }
   ],
   "source": [
    "rawdata_BFIBundle_na[\"Fungal_host_taxa\"] = rawdata_BFIBundle_na[\"Fungal_host_taxa\"].str.lower()\n",
    "print(rawdata_BFIBundle_na)\n",
    "fungal_list = ab_p_MycoDB_merged_na[\"FungalGenus\"].tolist()\n",
    "print(fungal_list)\n",
    "\n",
    "Filtered_BFIBundle_na = rawdata_BFIBundle_na[rawdata_BFIBundle_na[\"Fungal_host_taxa\"].isin(fungal_list)]\n",
    "\n",
    "print(Filtered_BFIBundle_na)"
   ]
  },
  {
   "cell_type": "code",
   "execution_count": 135,
   "id": "76195d05",
   "metadata": {},
   "outputs": [
    {
     "name": "stdout",
     "output_type": "stream",
     "text": [
      "{'gigaspora': {'Candidatus Moeniiplasma': 1, 'Candidatus Glomeribacter': 1, 'Mycoplasma [MRE]': 1, 'Achromobacter': 1, 'Aquitalea': 1, 'Bosea': 1, 'Burkholderia': 1, 'Cupriavidus': 1, 'Ensifer': 1, 'Lysobacter': 1, 'Mitsuaria': 1, 'Proteus': 1, 'Pseudomonas': 1, 'Ralstonia': 1, 'Rhizobium': 1, 'Amycolatopsis': 1, 'Arthrobacter': 1, 'Curtobacterium': 1, 'Gordonia': 1, 'Leifsonia': 1, 'Mycobacterium': 1, 'Nocardia': 1, 'Streptomyces': 1, 'Bacillus': 1, 'Brevibacillus': 1, 'Paenibacillus': 1, 'Burkholderia [BRE]': 1}, 'claroideoglomus': {'Candidatus Moeniiplasma': 1, 'Mycoplasma [MRE]': 1}, 'funneliformis': {'Candidatus Moeniiplasma': 1, 'Mycoplasma [MRE]': 1}, 'scutellospora': {'Candidatus Moeniiplasma': 1, 'Burkholderia [BRE]': 1}, 'glomus': {'Candidatus Moeniiplasma': 1, 'Mycoplasma [MRE]': 1, 'Pseudomonas': 1, 'Paenibacillus': 2}, 'dentiscutata': {'Candidatus Moeniiplasma': 1, 'Mycoplasma [MRE]': 1, 'Burkholderia [BRE]': 1}, 'racocetra': {'Candidatus Moeniiplasma': 1, 'Burkholderia [BRE]': 1}, 'laccaria': {'Acidovorax': 1, 'Aerosphaera': 1, 'Agrococcus': 1, 'Algoriphagus': 1, 'Aquabacterium': 1, 'Asticcacaulis': 1, 'Atopostipes': 1, 'Bacillus': 1, 'Blastococcus': 1, 'Blastomonas': 1, 'Bosea': 1, 'Brachybacterium': 1, 'Brevundimonas': 1, 'Chitinibacter': 1, 'Chryseobacterium': 1, 'Chryseomicrobium': 1, 'Comamonas': 1, 'Corynebacterium': 1, 'Curtobacterium': 1, 'Cutibacterium': 1, 'Deinococcus': 1, 'Diaphorobacter': 1, 'Dietzia': 1, 'Enterococcus': 1, 'Exiguobacterium': 1, 'Hydrogenophaga': 1, 'Luteibacter': 1, 'Lysinibacillus': 1, 'Lysobacter': 1, 'Massilia': 1, 'Methylobacterium': 1, 'Microbacterium': 1, 'Mucilaginibacter': 1, 'Paenibacillus': 1, 'Pannonibacter': 1, 'Nocardioides': 1, 'Novispirillum': 1, 'Ochrobactrum': 1, 'Paracoccus': 1, 'Rhizobium': 1, 'Planomicrobium': 1, 'Porphyromonas': 1, 'Rhodocista': 1, 'Rhodococcus': 1, 'Sphingomonas': 1, 'Spirosoma': 1, 'Staphylococcus': 1, 'Rhodoferax': 1, 'Thauera': 1, 'Vogesella': 1, 'Pelomonas': 1, 'Pseudomonas': 1}, 'rhizopogon': {'Actinomyces': 1, 'Aerococcus': 1, 'Agathobacter': 1, 'Agrococcus': 1, 'Ammoniphilus': 1, 'Anoxybacillus': 1, 'Aquabacterium': 1, 'Arthrobacter': 1, 'Atopostipes': 1, 'Aureimonas': 1, 'Azospirillum': 1, 'Bacillus': 1, 'Blastococcus': 1, 'Brachybacterium': 1, 'Brevibacillus': 1, 'Brevundimonas': 1, 'Caulobacter': 1, 'Chryseobacterium': 1, 'Chryseomicrobium': 1, 'Chthonobacter': 1, 'Ciceribacter': 1, 'Clavibacter': 1, 'Cloacibacterium': 1, 'Clostridium': 1, 'Comamonas': 1, 'Corynebacterium': 1, 'Coxiella': 1, 'Crocinitomix': 1, 'Cupriavidus': 1, 'Curtobacterium': 1, 'Cutibacterium': 1, 'Defluviimonas': 1, 'Deinococcus': 1, 'Devosia': 1, 'Diaphorobacter': 1, 'Dietzia': 1, 'Domibacillus': 1, 'Enterococcus': 1, 'Exiguobacterium': 1, 'Fenollaria': 1, 'Finegoldia': 1, 'Flavobacterium': 1, 'Gallionella': 1, 'Geminicoccus': 1, 'Geodermatophilus': 1, 'Haliangium': 1, 'Hydrogenophaga': 1, 'Jannaschia': 1, 'Kocuria': 1, 'Kouleothrix': 1, 'Lactobacillus': 1, 'Leptolyngbya': 1, 'Leptotrichia': 1, 'Leucobacter': 1, 'Limnobacter': 1, 'Luteimonas': 1, 'Lysobacter': 1, 'Massilia': 1, 'Mesorhizobium': 1, 'Methylobacterium': 1, 'Micrococcus': 1, 'Microvirga': 1, 'Myroides': 1, 'Naasia': 1, 'Negativicoccus': 1, 'Niveispirillum': 1, 'Nocardioides': 1, 'Noviherbaspirillum': 1, 'Novosphingobium': 1, 'Paraburkholderia': 1, 'Nitrospira': 1, 'Ornithinimicrobium': 1, 'Pannonibacter': 1, 'Paracoccus': 1, 'Phenylobacterium': 1, 'Propionibacterium': 1, 'Propioniciclava': 1, 'Pseudonocardia': 1, 'Rathayibacter': 1, 'Prevotella': 1, 'Psychrobacillus': 1, 'Qipengyuania': 1, 'Rhizobium': 1, 'Rhodocista': 1, 'Roseomonas': 1, 'Schlesneria': 1, 'Sideroxydans': 1, 'Rubellimicrobium': 1, 'Skermanella': 1, 'Sphingomonas': 1, 'Staphylococcus': 1, 'Streptococcus': 1, 'Trichococcus': 1, 'Vogesella': 1, 'Williamsia': 1, 'Woeseia': 1, 'Hydrogenovibrio': 1, 'Paenibacillus': 1, 'Pseudomonas': 1, 'Thiomicrorhabdus': 1}, 'diversispora': {'Mycoplasma [MRE]': 1}, 'acaulospora': {'Burkholderia [BRE]': 1}}\n",
      "{'Candidatus Moeniiplasma': 7, 'Candidatus Glomeribacter': 1, 'Mycoplasma [MRE]': 6, 'Achromobacter': 1, 'Aquitalea': 1, 'Bosea': 2, 'Burkholderia': 1, 'Cupriavidus': 2, 'Ensifer': 1, 'Lysobacter': 3, 'Mitsuaria': 1, 'Proteus': 1, 'Pseudomonas': 4, 'Ralstonia': 1, 'Rhizobium': 3, 'Amycolatopsis': 1, 'Arthrobacter': 2, 'Curtobacterium': 3, 'Gordonia': 1, 'Leifsonia': 1, 'Mycobacterium': 1, 'Nocardia': 1, 'Streptomyces': 1, 'Bacillus': 3, 'Brevibacillus': 2, 'Paenibacillus': 5, 'Burkholderia [BRE]': 5, 'Acidovorax': 1, 'Aerosphaera': 1, 'Agrococcus': 2, 'Algoriphagus': 1, 'Aquabacterium': 2, 'Asticcacaulis': 1, 'Atopostipes': 2, 'Blastococcus': 2, 'Blastomonas': 1, 'Brachybacterium': 2, 'Brevundimonas': 2, 'Chitinibacter': 1, 'Chryseobacterium': 2, 'Chryseomicrobium': 2, 'Comamonas': 2, 'Corynebacterium': 2, 'Cutibacterium': 2, 'Deinococcus': 2, 'Diaphorobacter': 2, 'Dietzia': 2, 'Enterococcus': 2, 'Exiguobacterium': 2, 'Hydrogenophaga': 2, 'Luteibacter': 1, 'Lysinibacillus': 1, 'Massilia': 2, 'Methylobacterium': 2, 'Microbacterium': 1, 'Mucilaginibacter': 1, 'Pannonibacter': 2, 'Nocardioides': 2, 'Novispirillum': 1, 'Ochrobactrum': 1, 'Paracoccus': 2, 'Planomicrobium': 1, 'Porphyromonas': 1, 'Rhodocista': 2, 'Rhodococcus': 1, 'Sphingomonas': 2, 'Spirosoma': 1, 'Staphylococcus': 2, 'Rhodoferax': 1, 'Thauera': 1, 'Vogesella': 2, 'Pelomonas': 1, 'Actinomyces': 1, 'Aerococcus': 1, 'Agathobacter': 1, 'Ammoniphilus': 1, 'Anoxybacillus': 1, 'Aureimonas': 1, 'Azospirillum': 1, 'Caulobacter': 1, 'Chthonobacter': 1, 'Ciceribacter': 1, 'Clavibacter': 1, 'Cloacibacterium': 1, 'Clostridium': 1, 'Coxiella': 1, 'Crocinitomix': 1, 'Defluviimonas': 1, 'Devosia': 1, 'Domibacillus': 1, 'Fenollaria': 1, 'Finegoldia': 1, 'Flavobacterium': 1, 'Gallionella': 1, 'Geminicoccus': 1, 'Geodermatophilus': 1, 'Haliangium': 1, 'Jannaschia': 1, 'Kocuria': 1, 'Kouleothrix': 1, 'Lactobacillus': 1, 'Leptolyngbya': 1, 'Leptotrichia': 1, 'Leucobacter': 1, 'Limnobacter': 1, 'Luteimonas': 1, 'Mesorhizobium': 1, 'Micrococcus': 1, 'Microvirga': 1, 'Myroides': 1, 'Naasia': 1, 'Negativicoccus': 1, 'Niveispirillum': 1, 'Noviherbaspirillum': 1, 'Novosphingobium': 1, 'Paraburkholderia': 1, 'Nitrospira': 1, 'Ornithinimicrobium': 1, 'Phenylobacterium': 1, 'Propionibacterium': 1, 'Propioniciclava': 1, 'Pseudonocardia': 1, 'Rathayibacter': 1, 'Prevotella': 1, 'Psychrobacillus': 1, 'Qipengyuania': 1, 'Roseomonas': 1, 'Schlesneria': 1, 'Sideroxydans': 1, 'Rubellimicrobium': 1, 'Skermanella': 1, 'Streptococcus': 1, 'Trichococcus': 1, 'Williamsia': 1, 'Woeseia': 1, 'Hydrogenovibrio': 1, 'Thiomicrorhabdus': 1}\n"
     ]
    }
   ],
   "source": [
    "counts = {}\n",
    "for index, row in Filtered_BFIBundle_na.iterrows():\n",
    "    Fungi = row[\"Fungal_host_taxa\"]\n",
    "    Bacteria = row[\"Bacterial_associate_taxa\"]\n",
    "    if Fungi not in counts:\n",
    "        counts[Fungi] = {}\n",
    "    if Bacteria not in counts[Fungi]:\n",
    "        counts[Fungi][Bacteria] = 0\n",
    "    counts[Fungi][Bacteria] += 1\n",
    "      \n",
    "#for Fungi in counts.keys():\n",
    "    #counts[Fungi][\"total\"] = sum(counts[Fungi].values())\n",
    "\n",
    "print (counts)\n",
    "\n",
    "Bacteria_counts = {}\n",
    "for Fungi in counts:\n",
    "    for Bacteria in counts[Fungi]:\n",
    "        if Bacteria not in Bacteria_counts:\n",
    "            Bacteria_counts[Bacteria] = 0\n",
    "        Bacteria_counts[Bacteria] += counts[Fungi][Bacteria]\n",
    "#del fungal_counts[\"total\"]\n",
    "print(Bacteria_counts)\n",
    "Bacteria_counts = Bacteria_counts"
   ]
  },
  {
   "cell_type": "code",
   "execution_count": 137,
   "id": "5658a333",
   "metadata": {},
   "outputs": [
    {
     "ename": "ValueError",
     "evalue": "Shape of passed values is (137, 1), indices imply (137, 14)",
     "output_type": "error",
     "traceback": [
      "\u001b[0;31m---------------------------------------------------------------------------\u001b[0m",
      "\u001b[0;31mValueError\u001b[0m                                Traceback (most recent call last)",
      "Cell \u001b[0;32mIn[137], line 1\u001b[0m\n\u001b[0;32m----> 1\u001b[0m bacteria_count_df \u001b[38;5;241m=\u001b[39m pd\u001b[38;5;241m.\u001b[39mDataFrame\u001b[38;5;241m.\u001b[39mfrom_dict(Bacteria_counts, orient \u001b[38;5;241m=\u001b[39m \u001b[38;5;124m\"\u001b[39m\u001b[38;5;124mindex\u001b[39m\u001b[38;5;124m\"\u001b[39m, columns \u001b[38;5;241m=\u001b[39m (fungal_list))\n\u001b[1;32m      2\u001b[0m \u001b[38;5;28mprint\u001b[39m(bacteria_count_df)\n",
      "File \u001b[0;32m~/anaconda3/lib/python3.11/site-packages/pandas/core/frame.py:1760\u001b[0m, in \u001b[0;36mDataFrame.from_dict\u001b[0;34m(cls, data, orient, dtype, columns)\u001b[0m\n\u001b[1;32m   1754\u001b[0m     \u001b[38;5;28;01mraise\u001b[39;00m \u001b[38;5;167;01mValueError\u001b[39;00m(\n\u001b[1;32m   1755\u001b[0m         \u001b[38;5;124mf\u001b[39m\u001b[38;5;124m\"\u001b[39m\u001b[38;5;124mExpected \u001b[39m\u001b[38;5;124m'\u001b[39m\u001b[38;5;124mindex\u001b[39m\u001b[38;5;124m'\u001b[39m\u001b[38;5;124m, \u001b[39m\u001b[38;5;124m'\u001b[39m\u001b[38;5;124mcolumns\u001b[39m\u001b[38;5;124m'\u001b[39m\u001b[38;5;124m or \u001b[39m\u001b[38;5;124m'\u001b[39m\u001b[38;5;124mtight\u001b[39m\u001b[38;5;124m'\u001b[39m\u001b[38;5;124m for orient parameter. \u001b[39m\u001b[38;5;124m\"\u001b[39m\n\u001b[1;32m   1756\u001b[0m         \u001b[38;5;124mf\u001b[39m\u001b[38;5;124m\"\u001b[39m\u001b[38;5;124mGot \u001b[39m\u001b[38;5;124m'\u001b[39m\u001b[38;5;132;01m{\u001b[39;00morient\u001b[38;5;132;01m}\u001b[39;00m\u001b[38;5;124m'\u001b[39m\u001b[38;5;124m instead\u001b[39m\u001b[38;5;124m\"\u001b[39m\n\u001b[1;32m   1757\u001b[0m     )\n\u001b[1;32m   1759\u001b[0m \u001b[38;5;28;01mif\u001b[39;00m orient \u001b[38;5;241m!=\u001b[39m \u001b[38;5;124m\"\u001b[39m\u001b[38;5;124mtight\u001b[39m\u001b[38;5;124m\"\u001b[39m:\n\u001b[0;32m-> 1760\u001b[0m     \u001b[38;5;28;01mreturn\u001b[39;00m \u001b[38;5;28mcls\u001b[39m(data, index\u001b[38;5;241m=\u001b[39mindex, columns\u001b[38;5;241m=\u001b[39mcolumns, dtype\u001b[38;5;241m=\u001b[39mdtype)\n\u001b[1;32m   1761\u001b[0m \u001b[38;5;28;01melse\u001b[39;00m:\n\u001b[1;32m   1762\u001b[0m     realdata \u001b[38;5;241m=\u001b[39m data[\u001b[38;5;124m\"\u001b[39m\u001b[38;5;124mdata\u001b[39m\u001b[38;5;124m\"\u001b[39m]\n",
      "File \u001b[0;32m~/anaconda3/lib/python3.11/site-packages/pandas/core/frame.py:798\u001b[0m, in \u001b[0;36mDataFrame.__init__\u001b[0;34m(self, data, index, columns, dtype, copy)\u001b[0m\n\u001b[1;32m    790\u001b[0m         mgr \u001b[38;5;241m=\u001b[39m arrays_to_mgr(\n\u001b[1;32m    791\u001b[0m             arrays,\n\u001b[1;32m    792\u001b[0m             columns,\n\u001b[0;32m   (...)\u001b[0m\n\u001b[1;32m    795\u001b[0m             typ\u001b[38;5;241m=\u001b[39mmanager,\n\u001b[1;32m    796\u001b[0m         )\n\u001b[1;32m    797\u001b[0m     \u001b[38;5;28;01melse\u001b[39;00m:\n\u001b[0;32m--> 798\u001b[0m         mgr \u001b[38;5;241m=\u001b[39m ndarray_to_mgr(\n\u001b[1;32m    799\u001b[0m             data,\n\u001b[1;32m    800\u001b[0m             index,\n\u001b[1;32m    801\u001b[0m             columns,\n\u001b[1;32m    802\u001b[0m             dtype\u001b[38;5;241m=\u001b[39mdtype,\n\u001b[1;32m    803\u001b[0m             copy\u001b[38;5;241m=\u001b[39mcopy,\n\u001b[1;32m    804\u001b[0m             typ\u001b[38;5;241m=\u001b[39mmanager,\n\u001b[1;32m    805\u001b[0m         )\n\u001b[1;32m    806\u001b[0m \u001b[38;5;28;01melse\u001b[39;00m:\n\u001b[1;32m    807\u001b[0m     mgr \u001b[38;5;241m=\u001b[39m dict_to_mgr(\n\u001b[1;32m    808\u001b[0m         {},\n\u001b[1;32m    809\u001b[0m         index,\n\u001b[0;32m   (...)\u001b[0m\n\u001b[1;32m    812\u001b[0m         typ\u001b[38;5;241m=\u001b[39mmanager,\n\u001b[1;32m    813\u001b[0m     )\n",
      "File \u001b[0;32m~/anaconda3/lib/python3.11/site-packages/pandas/core/internals/construction.py:337\u001b[0m, in \u001b[0;36mndarray_to_mgr\u001b[0;34m(values, index, columns, dtype, copy, typ)\u001b[0m\n\u001b[1;32m    332\u001b[0m \u001b[38;5;66;03m# _prep_ndarraylike ensures that values.ndim == 2 at this point\u001b[39;00m\n\u001b[1;32m    333\u001b[0m index, columns \u001b[38;5;241m=\u001b[39m _get_axes(\n\u001b[1;32m    334\u001b[0m     values\u001b[38;5;241m.\u001b[39mshape[\u001b[38;5;241m0\u001b[39m], values\u001b[38;5;241m.\u001b[39mshape[\u001b[38;5;241m1\u001b[39m], index\u001b[38;5;241m=\u001b[39mindex, columns\u001b[38;5;241m=\u001b[39mcolumns\n\u001b[1;32m    335\u001b[0m )\n\u001b[0;32m--> 337\u001b[0m _check_values_indices_shape_match(values, index, columns)\n\u001b[1;32m    339\u001b[0m \u001b[38;5;28;01mif\u001b[39;00m typ \u001b[38;5;241m==\u001b[39m \u001b[38;5;124m\"\u001b[39m\u001b[38;5;124marray\u001b[39m\u001b[38;5;124m\"\u001b[39m:\n\u001b[1;32m    340\u001b[0m     \u001b[38;5;28;01mif\u001b[39;00m \u001b[38;5;28missubclass\u001b[39m(values\u001b[38;5;241m.\u001b[39mdtype\u001b[38;5;241m.\u001b[39mtype, \u001b[38;5;28mstr\u001b[39m):\n",
      "File \u001b[0;32m~/anaconda3/lib/python3.11/site-packages/pandas/core/internals/construction.py:408\u001b[0m, in \u001b[0;36m_check_values_indices_shape_match\u001b[0;34m(values, index, columns)\u001b[0m\n\u001b[1;32m    406\u001b[0m passed \u001b[38;5;241m=\u001b[39m values\u001b[38;5;241m.\u001b[39mshape\n\u001b[1;32m    407\u001b[0m implied \u001b[38;5;241m=\u001b[39m (\u001b[38;5;28mlen\u001b[39m(index), \u001b[38;5;28mlen\u001b[39m(columns))\n\u001b[0;32m--> 408\u001b[0m \u001b[38;5;28;01mraise\u001b[39;00m \u001b[38;5;167;01mValueError\u001b[39;00m(\u001b[38;5;124mf\u001b[39m\u001b[38;5;124m\"\u001b[39m\u001b[38;5;124mShape of passed values is \u001b[39m\u001b[38;5;132;01m{\u001b[39;00mpassed\u001b[38;5;132;01m}\u001b[39;00m\u001b[38;5;124m, indices imply \u001b[39m\u001b[38;5;132;01m{\u001b[39;00mimplied\u001b[38;5;132;01m}\u001b[39;00m\u001b[38;5;124m\"\u001b[39m)\n",
      "\u001b[0;31mValueError\u001b[0m: Shape of passed values is (137, 1), indices imply (137, 14)"
     ]
    }
   ],
   "source": [
    "bacteria_count_df = pd.DataFrame.from_dict(Bacteria_counts, orient = \"index\", columns = (fungal_list))\n",
    "print(bacteria_count_df)\n"
   ]
  },
  {
   "cell_type": "code",
   "execution_count": 138,
   "id": "1e58b010",
   "metadata": {},
   "outputs": [],
   "source": [
    "\n",
    "bacteria_count_df.to_csv('bacteria_count_df.csv', sep=',', index=True, encoding='utf-8')\n",
    "\n",
    "bacteria_mergedata = pd.read_csv('bacteria_count_df.csv')\n",
    "bacteria_mergedata.rename( columns={'Unnamed: 0':'Bacterial_associate_taxa'}, inplace=True )\n",
    "bacteria_mergedata.rename( columns={'0':'Fungal_host_taxa'}, inplace=True )"
   ]
  },
  {
   "cell_type": "code",
   "execution_count": 139,
   "id": "c6330f79",
   "metadata": {},
   "outputs": [
    {
     "name": "stdout",
     "output_type": "stream",
     "text": [
      "     Bacterial_associate_taxa  Fungal_host_taxa\n",
      "0     Candidatus Moeniiplasma                 7\n",
      "1    Candidatus Glomeribacter                 1\n",
      "2            Mycoplasma [MRE]                 6\n",
      "3               Achromobacter                 1\n",
      "4                   Aquitalea                 1\n",
      "..                        ...               ...\n",
      "133              Trichococcus                 1\n",
      "134                Williamsia                 1\n",
      "135                   Woeseia                 1\n",
      "136           Hydrogenovibrio                 1\n",
      "137          Thiomicrorhabdus                 1\n",
      "\n",
      "[138 rows x 2 columns]\n"
     ]
    }
   ],
   "source": [
    "print (bacteria_mergedata)"
   ]
  },
  {
   "cell_type": "code",
   "execution_count": null,
   "id": "db8e2048",
   "metadata": {},
   "outputs": [],
   "source": []
  }
 ],
 "metadata": {
  "kernelspec": {
   "display_name": "Python 3 (ipykernel)",
   "language": "python",
   "name": "python3"
  },
  "language_info": {
   "codemirror_mode": {
    "name": "ipython",
    "version": 3
   },
   "file_extension": ".py",
   "mimetype": "text/x-python",
   "name": "python",
   "nbconvert_exporter": "python",
   "pygments_lexer": "ipython3",
   "version": "3.11.5"
  }
 },
 "nbformat": 4,
 "nbformat_minor": 5
}
